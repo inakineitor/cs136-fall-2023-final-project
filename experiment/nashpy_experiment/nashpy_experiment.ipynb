{
 "cells": [
  {
   "cell_type": "code",
   "execution_count": 2,
   "metadata": {},
   "outputs": [
    {
     "name": "stdout",
     "output_type": "stream",
     "text": [
      "Collecting nashpy\n",
      "  Downloading nashpy-0.0.40-py3-none-any.whl.metadata (6.6 kB)\n",
      "Requirement already satisfied: numpy>=1.21.0 in /Users/kelseychen/Documents/CS136/cs136-fall-2023-final-project/.conda/lib/python3.10/site-packages (from nashpy) (1.26.2)\n",
      "Collecting scipy>=0.19.0 (from nashpy)\n",
      "  Downloading scipy-1.11.4-cp310-cp310-macosx_10_9_x86_64.whl.metadata (60 kB)\n",
      "\u001b[2K     \u001b[90m━━━━━━━━━━━━━━━━━━━━━━━━━━━━━━━━━━━━━━━━\u001b[0m \u001b[32m60.4/60.4 kB\u001b[0m \u001b[31m1.6 MB/s\u001b[0m eta \u001b[36m0:00:00\u001b[0m\n",
      "\u001b[?25hRequirement already satisfied: networkx>=3.0.0 in /Users/kelseychen/Documents/CS136/cs136-fall-2023-final-project/.conda/lib/python3.10/site-packages (from nashpy) (3.2.1)\n",
      "Collecting deprecated>=1.2.14 (from nashpy)\n",
      "  Using cached Deprecated-1.2.14-py2.py3-none-any.whl.metadata (5.4 kB)\n",
      "Collecting wrapt<2,>=1.10 (from deprecated>=1.2.14->nashpy)\n",
      "  Downloading wrapt-1.16.0-cp310-cp310-macosx_10_9_x86_64.whl.metadata (6.6 kB)\n",
      "Downloading nashpy-0.0.40-py3-none-any.whl (27 kB)\n",
      "Using cached Deprecated-1.2.14-py2.py3-none-any.whl (9.6 kB)\n",
      "Downloading scipy-1.11.4-cp310-cp310-macosx_10_9_x86_64.whl (37.3 MB)\n",
      "\u001b[2K   \u001b[90m━━━━━━━━━━━━━━━━━━━━━━━━━━━━━━━━━━━━━━━━\u001b[0m \u001b[32m37.3/37.3 MB\u001b[0m \u001b[31m15.1 MB/s\u001b[0m eta \u001b[36m0:00:00\u001b[0m00:01\u001b[0m00:01\u001b[0m\n",
      "\u001b[?25hDownloading wrapt-1.16.0-cp310-cp310-macosx_10_9_x86_64.whl (37 kB)\n",
      "Installing collected packages: wrapt, scipy, deprecated, nashpy\n",
      "Successfully installed deprecated-1.2.14 nashpy-0.0.40 scipy-1.11.4 wrapt-1.16.0\n"
     ]
    }
   ],
   "source": [
    "%%bash\n",
    "python3 -m pip install nashpy"
   ]
  },
  {
   "cell_type": "code",
   "execution_count": 3,
   "metadata": {},
   "outputs": [],
   "source": [
    "import nashpy as nash\n",
    "import numpy as np"
   ]
  },
  {
   "cell_type": "code",
   "execution_count": 4,
   "metadata": {},
   "outputs": [
    {
     "data": {
      "text/plain": [
       "Bi matrix game with payoff matrices:\n",
       "\n",
       "Row player:\n",
       "[[4 1]\n",
       " [6 2]]\n",
       "\n",
       "Column player:\n",
       "[[4 6]\n",
       " [1 2]]"
      ]
     },
     "execution_count": 4,
     "metadata": {},
     "output_type": "execute_result"
    }
   ],
   "source": [
    "U_1 = np.array([[4, 1], [6, 2]])\n",
    "U_2 = np.array([[4, 6], [1, 2]])\n",
    "game = nash.Game(U_1, U_2)\n",
    "game\n",
    "# Bi matrix game with payoff matrices:\n",
    "\n",
    "# Row player:\n",
    "# [[4 1]\n",
    "#  [6 2]]\n",
    "\n",
    "# Column player:\n",
    "# [[4 6]\n",
    "#  [1 2]]"
   ]
  },
  {
   "cell_type": "code",
   "execution_count": 5,
   "metadata": {},
   "outputs": [
    {
     "data": {
      "text/plain": [
       "[(array([0., 1.]), array([0., 1.]))]"
      ]
     },
     "execution_count": 5,
     "metadata": {},
     "output_type": "execute_result"
    }
   ],
   "source": [
    "equilibria = game.support_enumeration()\n",
    "list(equilibria)  # [(array([0., 1.]), array([0., 1.]))]"
   ]
  },
  {
   "cell_type": "code",
   "execution_count": 6,
   "metadata": {},
   "outputs": [
    {
     "data": {
      "text/plain": [
       "Zero sum game with payoff matrices:\n",
       "\n",
       "Row player:\n",
       "[[ 1 -1]\n",
       " [-1  1]]\n",
       "\n",
       "Column player:\n",
       "[[-1  1]\n",
       " [ 1 -1]]"
      ]
     },
     "execution_count": 6,
     "metadata": {},
     "output_type": "execute_result"
    }
   ],
   "source": [
    "A = np.array([[1, -1], [-1, 1]])\n",
    "matching_pennies = nash.Game(A)\n",
    "matching_pennies"
   ]
  },
  {
   "cell_type": "code",
   "execution_count": 12,
   "metadata": {},
   "outputs": [
    {
     "name": "stdout",
     "output_type": "stream",
     "text": [
      "Bi matrix game with payoff matrices:\n",
      "\n",
      "Row player:\n",
      "[[3 0]\n",
      " [5 1]]\n",
      "\n",
      "Column player:\n",
      "[[3 5]\n",
      " [0 1]]\n",
      "Both cooperate: [3 3]\n",
      "Mixed strategy: [2.25 2.25]\n"
     ]
    }
   ],
   "source": [
    "A = np.array([[3, 0], [5, 1]])\n",
    "B = np.array([[3, 5], [0, 1]])\n",
    "prisoners_dilemma = nash.Game(A, B)\n",
    "print(prisoners_dilemma)\n",
    "\n",
    "# The utility for both players when they both play their first action:\n",
    "sigma_r1 = np.array([1, 0])\n",
    "sigma_c1 = np.array([1, 0])\n",
    "print(\"Both cooperate: \" + str(prisoners_dilemma[sigma_r1, sigma_c1]))\n",
    "\n",
    "# The utility to both players when they play uniformly randomly across both their actions:\n",
    "sigma_r2 = np.array([1 / 2, 1 / 2])\n",
    "sigma_c2 = np.array([1 / 2, 1 / 2])\n",
    "print(\"Mixed strategy: \" + str(prisoners_dilemma[sigma_r2, sigma_c2]))"
   ]
  }
 ],
 "metadata": {
  "kernelspec": {
   "display_name": "Python 3",
   "language": "python",
   "name": "python3"
  },
  "language_info": {
   "codemirror_mode": {
    "name": "ipython",
    "version": 3
   },
   "file_extension": ".py",
   "mimetype": "text/x-python",
   "name": "python",
   "nbconvert_exporter": "python",
   "pygments_lexer": "ipython3",
   "version": "3.10.13"
  }
 },
 "nbformat": 4,
 "nbformat_minor": 2
}
