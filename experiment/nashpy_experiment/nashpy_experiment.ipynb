{
 "cells": [
  {
   "cell_type": "code",
   "execution_count": 1,
   "metadata": {},
   "outputs": [
    {
     "name": "stdout",
     "output_type": "stream",
     "text": [
      "Collecting nashpy\n",
      "  Downloading nashpy-0.0.40-py3-none-any.whl (27 kB)\n",
      "Requirement already satisfied: numpy>=1.21.0 in /Users/inakiarango/Documents/Personal/pytorch-tutorial/pytorch-tutorial-env/lib/python3.11/site-packages (from nashpy) (1.24.3)\n",
      "Collecting scipy>=0.19.0\n",
      "  Downloading scipy-1.11.4-cp311-cp311-macosx_12_0_arm64.whl (29.7 MB)\n",
      "     ━━━━━━━━━━━━━━━━━━━━━━━━━━━━━━━━━━━━━━━━ 29.7/29.7 MB 11.9 MB/s eta 0:00:00\n",
      "Collecting networkx>=3.0.0\n",
      "  Downloading networkx-3.2.1-py3-none-any.whl (1.6 MB)\n",
      "     ━━━━━━━━━━━━━━━━━━━━━━━━━━━━━━━━━━━━━━━━ 1.6/1.6 MB 12.5 MB/s eta 0:00:00\n",
      "Collecting deprecated>=1.2.14\n",
      "  Using cached Deprecated-1.2.14-py2.py3-none-any.whl (9.6 kB)\n",
      "Collecting wrapt<2,>=1.10\n",
      "  Downloading wrapt-1.16.0-cp311-cp311-macosx_11_0_arm64.whl (38 kB)\n",
      "Installing collected packages: wrapt, scipy, networkx, deprecated, nashpy\n",
      "Successfully installed deprecated-1.2.14 nashpy-0.0.40 networkx-3.2.1 scipy-1.11.4 wrapt-1.16.0\n"
     ]
    }
   ],
   "source": [
    "%%bash\n",
    "python3 -m pip install nashpy"
   ]
  },
  {
   "cell_type": "code",
   "execution_count": 9,
   "metadata": {},
   "outputs": [],
   "source": [
    "import nashpy as nash\n",
    "import numpy as np"
   ]
  },
  {
   "cell_type": "code",
   "execution_count": 10,
   "metadata": {},
   "outputs": [
    {
     "data": {
      "text/plain": [
       "Bi matrix game with payoff matrices:\n",
       "\n",
       "Row player:\n",
       "[[4 1]\n",
       " [6 2]]\n",
       "\n",
       "Column player:\n",
       "[[4 6]\n",
       " [1 2]]"
      ]
     },
     "execution_count": 10,
     "metadata": {},
     "output_type": "execute_result"
    }
   ],
   "source": [
    "U_1 = np.array([[4, 1], [6, 2]])\n",
    "U_2 = np.array([[4, 6], [1, 2]])\n",
    "game = nash.Game(U_1, U_2)\n",
    "game\n",
    "# Bi matrix game with payoff matrices:\n",
    "\n",
    "# Row player:\n",
    "# [[4 1]\n",
    "#  [6 2]]\n",
    "\n",
    "# Column player:\n",
    "# [[4 6]\n",
    "#  [1 2]]"
   ]
  },
  {
   "cell_type": "code",
   "execution_count": 15,
   "metadata": {},
   "outputs": [
    {
     "data": {
      "text/plain": [
       "[(array([0., 1.]), array([0., 1.]))]"
      ]
     },
     "execution_count": 15,
     "metadata": {},
     "output_type": "execute_result"
    }
   ],
   "source": [
    "equilibria = game.support_enumeration()\n",
    "list(equilibria)  # [(array([0., 1.]), array([0., 1.]))]"
   ]
  }
 ],
 "metadata": {
  "kernelspec": {
   "display_name": "Python 3",
   "language": "python",
   "name": "python3"
  },
  "language_info": {
   "codemirror_mode": {
    "name": "ipython",
    "version": 3
   },
   "file_extension": ".py",
   "mimetype": "text/x-python",
   "name": "python",
   "nbconvert_exporter": "python",
   "pygments_lexer": "ipython3",
   "version": "3.11.3"
  }
 },
 "nbformat": 4,
 "nbformat_minor": 2
}
